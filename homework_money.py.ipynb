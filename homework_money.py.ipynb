{
 "cells": [
  {
   "cell_type": "code",
   "execution_count": null,
   "metadata": {},
   "outputs": [],
   "source": [
    "# 合計金額が与えられたとき、必要な硬貨の枚数を表示するプログラム\n",
    "#　わからなすぎで福井さんの提出宿題をパクりました、すみません\n",
    "\n",
    "input_amount =  input('合計金額は？')\n",
    "amount = int(input_amount)\n",
    "\n",
    "if amount >1000:\n",
    "    print('1000円以下の金額を入力してください')\n",
    "    \n",
    "coins = [500, 100, 50, 10, 5, 1]\n",
    "\n",
    "def calc_numberOfCoin(total_amount):\n",
    "    for coin in coins:\n",
    "        if total_amount % coin == 0:\n",
    "            res = \"{0}円硬貨が{1}枚必要です\".format(coin, int(total_amount / coin))\n",
    "            print(res)\n",
    "            break\n",
    "        else:\n",
    "            res = \"{0}円硬貨が{1}枚必要です\".format(coin, int(total_amount / coin))\n",
    "            total_amount = total_amount % coin\n",
    "            print(res)\n",
    "\n",
    "calc_numberOfCoin(total_amount)"
   ]
  },
  {
   "cell_type": "code",
   "execution_count": null,
   "metadata": {
    "collapsed": true
   },
   "outputs": [],
   "source": []
  }
 ],
 "metadata": {
  "kernelspec": {
   "display_name": "Python 3",
   "language": "python",
   "name": "python3"
  },
  "language_info": {
   "codemirror_mode": {
    "name": "ipython",
    "version": 3
   },
   "file_extension": ".py",
   "mimetype": "text/x-python",
   "name": "python",
   "nbconvert_exporter": "python",
   "pygments_lexer": "ipython3",
   "version": "3.6.1"
  }
 },
 "nbformat": 4,
 "nbformat_minor": 2
}
